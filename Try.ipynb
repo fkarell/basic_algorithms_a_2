{
  "nbformat": 4,
  "nbformat_minor": 0,
  "metadata": {
    "colab": {
      "name": "Try.ipynb",
      "provenance": []
    },
    "kernelspec": {
      "name": "python3",
      "display_name": "Python 3"
    }
  },
  "cells": [
    {
      "cell_type": "markdown",
      "metadata": {
        "id": "D447JWnFuKiC",
        "colab_type": "text"
      },
      "source": [
        "#初めてのノートブック\n",
        "\n",
        "**書きましょう**"
      ]
    },
    {
      "cell_type": "code",
      "metadata": {
        "id": "fxb09IxfvXhj",
        "colab_type": "code",
        "outputId": "b984274f-364f-4eac-d053-0f054ea66ea0",
        "colab": {
          "base_uri": "https://localhost:8080/",
          "height": 34
        }
      },
      "source": [
        "#計算する\n",
        "\n",
        "2*(3+4)"
      ],
      "execution_count": 0,
      "outputs": [
        {
          "output_type": "execute_result",
          "data": {
            "text/plain": [
              "14"
            ]
          },
          "metadata": {
            "tags": []
          },
          "execution_count": 3
        }
      ]
    },
    {
      "cell_type": "markdown",
      "metadata": {
        "id": "9x9vUkuYwUdH",
        "colab_type": "text"
      },
      "source": [
        "*出力してみましょう*\n",
        "\n",
        "\n",
        "\n",
        "```\n",
        "#First value: 1\n",
        "```\n",
        "\n",
        "\n"
      ]
    },
    {
      "cell_type": "code",
      "metadata": {
        "id": "ZxhGFlTcyFRL",
        "colab_type": "code",
        "outputId": "57bd0ba4-1e59-4d33-b375-6a33bc141264",
        "colab": {
          "base_uri": "https://localhost:8080/",
          "height": 34
        }
      },
      "source": [
        "'''\n",
        "値を出力する\n",
        "'''\n",
        "\n",
        "print('First value:',1)"
      ],
      "execution_count": 0,
      "outputs": [
        {
          "output_type": "stream",
          "text": [
            "First value: 1\n"
          ],
          "name": "stdout"
        }
      ]
    },
    {
      "cell_type": "markdown",
      "metadata": {
        "id": "PsxgyloB0f1g",
        "colab_type": "text"
      },
      "source": [
        "**`sort`の関数を呼び出す**\n",
        "\n",
        "\n",
        "1. 以下のリストを作る\n",
        "\n",
        "\n",
        "\n",
        "```\n",
        "Numbers =[4,3,2,1]\n",
        "```\n",
        "\n",
        "2. `sort()` の関数を使って、リストをソートする。\n",
        "\n",
        "3. `print`を使って、出力する"
      ]
    },
    {
      "cell_type": "code",
      "metadata": {
        "id": "_4lOuh_v3COj",
        "colab_type": "code",
        "outputId": "89bee007-20a2-41f4-a20e-ccbdb3bb40f0",
        "colab": {
          "base_uri": "https://localhost:8080/",
          "height": 34
        }
      },
      "source": [
        "Numbers =[4,3,2,1]\n",
        "Numbers. sort()\n",
        "print(Numbers)"
      ],
      "execution_count": 0,
      "outputs": [
        {
          "output_type": "stream",
          "text": [
            "[1, 2, 3, 4]\n"
          ],
          "name": "stdout"
        }
      ]
    }
  ]
}